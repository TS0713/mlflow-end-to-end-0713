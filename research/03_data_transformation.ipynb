{
 "cells": [
  {
   "cell_type": "code",
   "execution_count": 1,
   "metadata": {},
   "outputs": [
    {
     "data": {
      "text/plain": [
       "'d:\\\\EndToEnd\\\\MLFLOW\\\\mlflow-end-to-end-0713'"
      ]
     },
     "execution_count": 1,
     "metadata": {},
     "output_type": "execute_result"
    }
   ],
   "source": [
    "import os\n",
    "os.chdir(\"../\")\n",
    "%pwd"
   ]
  },
  {
   "cell_type": "code",
   "execution_count": 2,
   "metadata": {},
   "outputs": [],
   "source": [
    "from dataclasses import dataclass\n",
    "from pathlib import Path"
   ]
  },
  {
   "cell_type": "code",
   "execution_count": 9,
   "metadata": {},
   "outputs": [],
   "source": [
    "@dataclass(frozen=True)\n",
    "class DataTransformationConfig:\n",
    "    root_dir: Path\n",
    "    data_path: Path"
   ]
  },
  {
   "cell_type": "code",
   "execution_count": 10,
   "metadata": {},
   "outputs": [],
   "source": [
    "from mlproject_0713.constants import *\n",
    "from mlproject_0713.utils.common import create_directories, read_yaml\n",
    "\n",
    "\n",
    "class ConfigurationManager:\n",
    "    def __init__(self,\n",
    "                 config_path = CONFIG_FILE_PATH,\n",
    "                 schema_path = SCHEMA_FILE_PATH,\n",
    "                 params_path = PARAMS_FILE_PATH):\n",
    "        self.config = read_yaml(config_path)\n",
    "        self.schema = read_yaml(schema_path)\n",
    "        self.params = read_yaml(params_path)\n",
    "\n",
    "        create_directories([Path(self.config.artifacts_root)])\n",
    "    \n",
    "    def get_transformation_config(self) -> DataTransformationConfig:\n",
    "        config = self.config.data_transformation\n",
    "        create_directories([Path(config.root_dir)])\n",
    "        data_transformation_config = DataTransformationConfig(\n",
    "            root_dir = config.root_dir,\n",
    "            data_path = config.data_path\n",
    "        )\n",
    "        return data_transformation_config\n"
   ]
  },
  {
   "cell_type": "code",
   "execution_count": 11,
   "metadata": {},
   "outputs": [],
   "source": [
    "import os\n",
    "from mlproject_0713 import logger\n",
    "from sklearn.model_selection import train_test_split\n",
    "import pandas as pd\n",
    "\n",
    "class DataTransformation:\n",
    "    def __init__(self,config=DataTransformationConfig):\n",
    "        self.config = config\n",
    "    \n",
    "    def train_test_split(self):\n",
    "        data = pd.read_csv(self.config.data_path)\n",
    "\n",
    "        train,test = train_test_split(data)\n",
    "\n",
    "        train.to_csv(os.path.join(self.config.root_dir,\"train.csv\"),index=False)\n",
    "        test.to_csv(os.path.join(self.config.root_dir,\"test.csv\"),index=False)\n",
    "\n",
    "        logger.info(\"Data Splitted into train and test\")\n",
    "        logger.info(f\"Train Shape: {train.shape}\")\n",
    "        logger.info(f\"Test Shape: {test.shape}\")\n",
    "\n",
    "        print (train.shape)\n",
    "        print (test.shape)"
   ]
  },
  {
   "cell_type": "code",
   "execution_count": 12,
   "metadata": {},
   "outputs": [
    {
     "name": "stdout",
     "output_type": "stream",
     "text": [
      "[2024-07-26 22:37:21,357: INFO: common: yaml file: config\\config.yaml loaded successfully]\n",
      "[2024-07-26 22:37:21,361: INFO: common: yaml file: schema.yaml loaded successfully]\n",
      "[2024-07-26 22:37:21,363: INFO: common: yaml file: params.yaml loaded successfully]\n",
      "[2024-07-26 22:37:21,364: INFO: common: Created Directory at:artifacts]\n",
      "[2024-07-26 22:37:21,366: INFO: common: Created Directory at:artifacts\\data_transformation]\n",
      "[2024-07-26 22:37:21,392: INFO: 2298537423: Data Splitted into train and test]\n",
      "[2024-07-26 22:37:21,394: INFO: 2298537423: Train Shape: (1199, 12)]\n",
      "[2024-07-26 22:37:21,396: INFO: 2298537423: Test Shape: (400, 12)]\n",
      "(1199, 12)\n",
      "(400, 12)\n"
     ]
    }
   ],
   "source": [
    "try:\n",
    "    config = ConfigurationManager()\n",
    "    data_transformation_config = config.get_transformation_config()\n",
    "    data_transformation = DataTransformation(config = data_transformation_config)\n",
    "    data_transformation.train_test_split()\n",
    "except Exception as e:\n",
    "    logger.exception(e)\n",
    "    raise e\n"
   ]
  },
  {
   "cell_type": "code",
   "execution_count": null,
   "metadata": {},
   "outputs": [],
   "source": []
  }
 ],
 "metadata": {
  "kernelspec": {
   "display_name": "mini01",
   "language": "python",
   "name": "python3"
  },
  "language_info": {
   "codemirror_mode": {
    "name": "ipython",
    "version": 3
   },
   "file_extension": ".py",
   "mimetype": "text/x-python",
   "name": "python",
   "nbconvert_exporter": "python",
   "pygments_lexer": "ipython3",
   "version": "3.10.0"
  }
 },
 "nbformat": 4,
 "nbformat_minor": 2
}
